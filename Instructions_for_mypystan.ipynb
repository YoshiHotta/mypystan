{
 "cells": [
  {
   "cell_type": "markdown",
   "metadata": {},
   "source": [
    "# Importing libraries"
   ]
  },
  {
   "cell_type": "code",
   "execution_count": 1,
   "metadata": {
    "collapsed": false
   },
   "outputs": [
    {
     "name": "stderr",
     "output_type": "stream",
     "text": [
      "/home/keisukefujii/anaconda2/lib/python2.7/site-packages/matplotlib/font_manager.py:273: UserWarning: Matplotlib is building the font cache using fc-list. This may take a moment.\n",
      "  warnings.warn('Matplotlib is building the font cache using fc-list. This may take a moment.')\n"
     ]
    }
   ],
   "source": [
    "# importing matplotlib\n",
    "%matplotlib inline\n",
    "import matplotlib.pyplot as plt\n",
    "\n",
    "# add a path to the mypystan.\n",
    "import sys\n",
    "sys.path.append('./')\n",
    "import mypystan"
   ]
  },
  {
   "cell_type": "code",
   "execution_count": 2,
   "metadata": {
    "collapsed": true
   },
   "outputs": [],
   "source": [
    "import numpy as np"
   ]
  },
  {
   "cell_type": "markdown",
   "metadata": {},
   "source": [
    "# Generating synthetic data"
   ]
  },
  {
   "cell_type": "code",
   "execution_count": 183,
   "metadata": {
    "collapsed": true
   },
   "outputs": [],
   "source": [
    "# position\n",
    "x = np.arange(0, 1, 0.01)\n",
    "# latent function\n",
    "t = np.sin(2.0*np.pi*x) + 0.5 * np.sin(10.0*np.pi*x)\n",
    "# observed function\n",
    "y = t + np.random.randn(len(x))*0.3"
   ]
  },
  {
   "cell_type": "code",
   "execution_count": 184,
   "metadata": {
    "collapsed": false
   },
   "outputs": [
    {
     "data": {
      "text/plain": [
       "<matplotlib.legend.Legend at 0x7fb57deced50>"
      ]
     },
     "execution_count": 184,
     "metadata": {},
     "output_type": "execute_result"
    },
    {
     "data": {
      "image/png": "[encoded data removed]",
      "text/plain": [
       "<matplotlib.figure.Figure at 0x7fb57e074b90>"
      ]
     },
     "metadata": {},
     "output_type": "display_data"
    }
   ],
   "source": [
    "plt.figure(figsize=(10,3))\n",
    "plt.plot(x, t, label='latent function')\n",
    "plt.plot(x, y, 'o', label='observed')\n",
    "plt.legend()"
   ]
  },
  {
   "cell_type": "markdown",
   "metadata": {},
   "source": [
    "# Analyzing by Stan"
   ]
  },
  {
   "cell_type": "markdown",
   "metadata": {},
   "source": [
    "## Defining Stan code"
   ]
  },
  {
   "cell_type": "code",
   "execution_count": 20,
   "metadata": {
    "collapsed": true
   },
   "outputs": [],
   "source": [
    "stan_code = \"\"\"\n",
    "data{\n",
    " int<lower=1> n;\n",
    " vector[n] x;\n",
    " vector[n] y;\n",
    "}\n",
    "\n",
    "parameters{\n",
    " real<lower=0> alpha;\n",
    " real<lower=0> delta;\n",
    " real<lower=0> dx;\n",
    "}\n",
    "\n",
    "model{\n",
    " matrix[n,n] cov;\n",
    " vector[n] mu;\n",
    " \n",
    " for(i in 1:n){\n",
    "  for(j in 1:i-1){\n",
    "   cov[i,j] <- alpha*exp(-(x[i]-x[j])*(x[i]-x[j])/(2.0*dx*dx));\n",
    "   cov[j,i] <- cov[i,j];\n",
    "  }\n",
    "  cov[i,i] <- alpha + delta;\n",
    "  mu[i] <- 0.0;\n",
    " }\n",
    " \n",
    " y ~ multi_normal(mu, cov);\n",
    "}\n",
    "\n",
    "generated quantities{\n",
    " vector[n] t; // prediction of y at the same x\n",
    " \n",
    " // this block is just introduced not to output these defined quantities\n",
    " {\n",
    "  matrix[n,n] cov_yy;\n",
    "  matrix[n,n] cov_yt;\n",
    "  matrix[n,n] cov_tt;\n",
    "  matrix[n,n] inv_cov_yy;\n",
    "  \n",
    "  for(i in 1:n){\n",
    "   for(j in 1:i-1){\n",
    "    cov_yy[i,j] <- alpha*exp(-(x[i]-x[j])*(x[i]-x[j])/(2.0*dx*dx));\n",
    "    cov_yy[j,i] <- cov_yy[i,j];\n",
    "    cov_yt[i,j] <- cov_yy[i,j];\n",
    "    cov_yt[j,i] <- cov_yy[i,j];\n",
    "    cov_tt[i,j] <- cov_yy[i,j];\n",
    "    cov_tt[j,i] <- cov_yy[i,j];\n",
    "   }\n",
    "   cov_yy[i,i] <- alpha + delta;\n",
    "   cov_yt[i,i] <- alpha;\n",
    "   cov_tt[i,i] <- alpha;\n",
    "  }\n",
    "  \n",
    "  inv_cov_yy <- inverse(cov_yy);\n",
    "  t <- multi_normal_rng(cov_yt * inv_cov_yy * y, cov_tt - cov_yt * inv_cov_yy * cov_yy);\n",
    " }\n",
    " \n",
    "}\n",
    "\"\"\""
   ]
  },
  {
   "cell_type": "markdown",
   "metadata": {},
   "source": [
    "## Compiling the Stan code"
   ]
  },
  {
   "cell_type": "markdown",
   "metadata": {},
   "source": [
    "### cmdstan_home の設定\n",
    "\n",
    "cmdstan を展開したフォルダの情報が必要です。"
   ]
  },
  {
   "cell_type": "code",
   "execution_count": 21,
   "metadata": {
    "collapsed": true
   },
   "outputs": [],
   "source": [
    "cmdstan_home = '/home/keisukefujii/stan/cmdstan-2.9.0/'"
   ]
  },
  {
   "cell_type": "markdown",
   "metadata": {},
   "source": [
    "### Stan_model のコンパイル\n",
    "\n",
    "pystan.StanModel\n",
    "\n",
    "http://pystan.readthedocs.org/en/latest/api.html#pystan.StanModel\n",
    "\n",
    "と使い方はほぼ同じですが、cmdstan_home を引数に渡す必要があります。"
   ]
  },
  {
   "cell_type": "code",
   "execution_count": 93,
   "metadata": {
    "collapsed": true
   },
   "outputs": [],
   "source": [
    "stan_model = mypystan.StanModel(model_code=stan_code, model_name='stan_model', cmdstan_home=cmdstan_home)"
   ]
  },
  {
   "cell_type": "markdown",
   "metadata": {},
   "source": [
    "## StanModel.sampling\n",
    "\n",
    "pystan.StanModel.sampling\n",
    "\n",
    "http://pystan.readthedocs.org/en/latest/api.html#pystan.StanModel.sampling\n",
    "\n",
    "と使い方はほぼ同じですが、インタラクティブに実行するには\n",
    "\n",
    "wait_during_sampling = True\n",
    "\n",
    "を指定する必要があります。\n",
    "\n",
    "\n",
    "また、デフォルトでは毎回output.csv に出力します。\n",
    "\n",
    "上書きを避けるためには、output_file を指定してください。"
   ]
  },
  {
   "cell_type": "code",
   "execution_count": 27,
   "metadata": {
    "collapsed": false
   },
   "outputs": [
    {
     "name": "stdout",
     "output_type": "stream",
     "text": [
      "./stan_model id=1 sample num_samples=1000 num_warmup=1000 algorithm=hmc engine=nuts data file=.input.data.R output file=stan_out_sampling1.csv\n",
      "\n"
     ]
    }
   ],
   "source": [
    "rslt = stan_model.sampling(data={'n':len(x), 'x':x, 't':t}, wait_during_sampling=True, chains=1, output_file='stan_out_sampling')"
   ]
  },
  {
   "cell_type": "markdown",
   "metadata": {},
   "source": [
    "## StanModel.optimizing\n",
    "\n",
    "pystan.StanModel.optimizing\n",
    "\n",
    "http://pystan.readthedocs.org/en/latest/api.html#pystan.StanModel.optimizing\n",
    "\n",
    "と同様の使い方です。\n",
    "\n",
    "sampling と同じように、デフォルトでは毎回output.csv に出力します。上書きを避けるためには、output_file を指定してください。"
   ]
  },
  {
   "cell_type": "code",
   "execution_count": 155,
   "metadata": {
    "collapsed": true
   },
   "outputs": [],
   "source": [
    "rslt_optimizing = stan_model.optimizing(data={'n':len(x), 'x':x, 'y':y}, output_file='stan_out_optimizing')"
   ]
  },
  {
   "cell_type": "markdown",
   "metadata": {},
   "source": [
    "### Drawing graph"
   ]
  },
  {
   "cell_type": "code",
   "execution_count": 162,
   "metadata": {
    "collapsed": false
   },
   "outputs": [],
   "source": [
    "rslt = mypystan.StanFit4model(['stan_out_optimizing.csv']).extract()"
   ]
  },
  {
   "cell_type": "code",
   "execution_count": 182,
   "metadata": {
    "collapsed": false
   },
   "outputs": [
    {
     "data": {
      "text/plain": [
       "<matplotlib.legend.Legend at 0x7fb57df86450>"
      ]
     },
     "execution_count": 182,
     "metadata": {},
     "output_type": "execute_result"
    },
    {
     "data": {
      "image/png": "[encoded data removed]",
      "text/plain": [
       "<matplotlib.figure.Figure at 0x7fb57e0fe050>"
      ]
     },
     "metadata": {},
     "output_type": "display_data"
    }
   ],
   "source": [
    "plt.figure(figsize=(10,3))\n",
    "plt.plot(x, rslt['t'][0], 'k', label='estimated')\n",
    "plt.plot(x, y, 'go', label='observed')\n",
    "plt.plot(x, t, '--r', label='true', linewidth=2)\n",
    "plt.legend()"
   ]
  },
  {
   "cell_type": "code",
   "execution_count": 176,
   "metadata": {
    "collapsed": false
   },
   "outputs": [
    {
     "name": "stdout",
     "output_type": "stream",
     "text": [
      "alpha: 0.774502  delta: 0.0934682 , dx: 0.0934682\n"
     ]
    }
   ],
   "source": [
    "print 'alpha:', rslt['alpha'][0], ' delta:', rslt['delta'][0], ', dx:', rslt['delta'][0]"
   ]
  },
  {
   "cell_type": "markdown",
   "metadata": {},
   "source": [
    "## StanModel.variational\n",
    "\n",
    "variational が使えます。詳しくは、Stanのマニュアルを参照。\n",
    "\n",
    "sampling と同じように、デフォルトでは毎回output.csv に出力します。上書きを避けるためには、output_file を指定してください。"
   ]
  },
  {
   "cell_type": "code",
   "execution_count": 177,
   "metadata": {
    "collapsed": true
   },
   "outputs": [],
   "source": [
    "rslt_variational = stan_model.variational(data={'n':len(x), 'x':x, 'y':y}, output_file='stan_out_variational')"
   ]
  },
  {
   "cell_type": "markdown",
   "metadata": {},
   "source": [
    "### サンプルを辞書形式で取得"
   ]
  },
  {
   "cell_type": "code",
   "execution_count": 178,
   "metadata": {
    "collapsed": false
   },
   "outputs": [],
   "source": [
    "rslt_var_extract = rslt_variational.extract()"
   ]
  },
  {
   "cell_type": "markdown",
   "metadata": {},
   "source": [
    "### Drawing figures"
   ]
  },
  {
   "cell_type": "code",
   "execution_count": 179,
   "metadata": {
    "collapsed": false
   },
   "outputs": [
    {
     "data": {
      "text/plain": [
       "<matplotlib.text.Text at 0x7fb58563ea10>"
      ]
     },
     "execution_count": 179,
     "metadata": {},
     "output_type": "execute_result"
    },
    {
     "data": {
      "image/png": "[encoded data removed]",
      "text/plain": [
       "<matplotlib.figure.Figure at 0x7fb57e6a4dd0>"
      ]
     },
     "metadata": {},
     "output_type": "display_data"
    }
   ],
   "source": [
    "plt.figure(figsize=(16,3))\n",
    "plt.subplot(1,3,1)\n",
    "plt.hist(rslt_var_extract['alpha'], bins=20)\n",
    "plt.title('alpha')\n",
    "plt.subplot(1,3,2)\n",
    "plt.hist(rslt_var_extract['delta'], bins=20)\n",
    "plt.title('delta')\n",
    "plt.subplot(1,3,3)\n",
    "plt.hist(rslt_var_extract['dx'], bins=20)\n",
    "plt.title('dx')"
   ]
  },
  {
   "cell_type": "code",
   "execution_count": 180,
   "metadata": {
    "collapsed": false
   },
   "outputs": [
    {
     "data": {
      "text/plain": [
       "<matplotlib.legend.Legend at 0x7fb57e15d350>"
      ]
     },
     "execution_count": 180,
     "metadata": {},
     "output_type": "execute_result"
    },
    {
     "data": {
      "image/png": "[encoded data removed]",
      "text/plain": [
       "<matplotlib.figure.Figure at 0x7fb585697d50>"
      ]
     },
     "metadata": {},
     "output_type": "display_data"
    }
   ],
   "source": [
    "# drawing 20 samples for t\n",
    "plt.figure(figsize=(10,3))\n",
    "for i in range(0, len(rslt_var_extract['t']), 50):\n",
    "    if i==0:\n",
    "        plt.plot(x, rslt_var_extract['t'][i], 'k',alpha=0.3, label='prediction')\n",
    "    else:\n",
    "        plt.plot(x, rslt_var_extract['t'][i], 'k',alpha=0.3)\n",
    "plt.plot(x, y, 'go', label='observed')\n",
    "plt.plot(x, t, '--r', label='true', linewidth=2)\n",
    "plt.legend()"
   ]
  },
  {
   "cell_type": "code",
   "execution_count": null,
   "metadata": {
    "collapsed": true
   },
   "outputs": [],
   "source": []
  }
 ],
 "metadata": {
  "kernelspec": {
   "display_name": "Python 2",
   "language": "python",
   "name": "python2"
  },
  "language_info": {
   "codemirror_mode": {
    "name": "ipython",
    "version": 2
   },
   "file_extension": ".py",
   "mimetype": "text/x-python",
   "name": "python",
   "nbconvert_exporter": "python",
   "pygments_lexer": "ipython2",
   "version": "2.7.11"
  },
  "toc": {
   "toc_cell": false,
   "toc_number_sections": true,
   "toc_threshold": 6,
   "toc_window_display": false
  }
 },
 "nbformat": 4,
 "nbformat_minor": 0
}
